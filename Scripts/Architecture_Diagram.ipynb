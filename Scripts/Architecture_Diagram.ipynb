{
 "cells": [
  {
   "cell_type": "code",
   "execution_count": 18,
   "id": "251efed8",
   "metadata": {},
   "outputs": [],
   "source": [
    "from diagrams import Diagram, Cluster, Edge\n",
    "from diagrams.onprem.compute import Server\n",
    "from diagrams.onprem.database import PostgreSQL\n",
    "from diagrams.custom import Custom\n",
    "import os\n",
    "\n",
    "# Define the file path for saving the diagram\n",
    "diagram_path = os.path.join(\"C:\\\\Users\\\\ektab\", \"crime_reporting_system_architecture.png\")\n",
    "\n",
    "# Create the diagram\n",
    "with Diagram(\"Crime Reporting System Architecture\", show=False, filename=diagram_path):\n",
    "    # Define components\n",
    "    user = Custom(\"User\", \"./diagrams/user.png\")\n",
    "    streamlit = Custom(\"Streamlit\", \"./diagrams/streamlit.png\")\n",
    "    fastapi = Custom(\"FASTAPI\", \"./diagrams/fastapi.png\")\n",
    "    airflow = Custom(\"Airflow\", \"./diagrams/airflow.png\")\n",
    "    snowflake = Custom(\"Snowflake\", \"./diagrams/snowflake.png\")\n",
    "    openai = Custom(\"OpenAI\", \"./diagrams/openai.png\")\n",
    "    pinecone = Custom(\"Pinecone\", \"./diagrams/pinecone.png\")\n",
    "    sf_gov_website = Custom(\"SF_GOV\", \"./diagrams/sf_gov_website.png\")\n",
    "\n",
    "    # Define relationships\n",
    "    with Cluster(\"User Interface\"):\n",
    "        user >> streamlit\n",
    "\n",
    "    with Cluster(\"Backend Services\"):\n",
    "        streamlit >> fastapi >> airflow >> snowflake\n",
    "        openai >> pinecone >> airflow\n",
    "\n",
    "    with Cluster(\"Data Sources\"):\n",
    "        sf_gov_website >> openai\n",
    "\n",
    "    # Connect components with arrows\n",
    "    Edge(color=\"blue\") << streamlit << Edge(color=\"red\") << fastapi << Edge(color=\"green\") << airflow << Edge(color=\"purple\") << snowflake << Edge(color=\"orange\") << openai << Edge(color=\"yellow\") << sf_gov_website\n"
   ]
  },
  {
   "cell_type": "code",
   "execution_count": null,
   "id": "83722937",
   "metadata": {},
   "outputs": [],
   "source": []
  }
 ],
 "metadata": {
  "kernelspec": {
   "display_name": "Python 3 (ipykernel)",
   "language": "python",
   "name": "python3"
  },
  "language_info": {
   "codemirror_mode": {
    "name": "ipython",
    "version": 3
   },
   "file_extension": ".py",
   "mimetype": "text/x-python",
   "name": "python",
   "nbconvert_exporter": "python",
   "pygments_lexer": "ipython3",
   "version": "3.9.13"
  }
 },
 "nbformat": 4,
 "nbformat_minor": 5
}
